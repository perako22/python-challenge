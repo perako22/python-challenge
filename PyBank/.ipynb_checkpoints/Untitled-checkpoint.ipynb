{
 "cells": [
  {
   "cell_type": "code",
   "execution_count": 78,
   "metadata": {},
   "outputs": [
    {
     "name": "stdout",
     "output_type": "stream",
     "text": [
      "Financial Analysis\n",
      "----------------------------\n",
      "Total Months: 41\n",
      "Total Revenue: 18971412\n",
      "Average Revenue Change: 462717.3658536585\n",
      "Greatest Increase in Revenue: 41(1195111)\n",
      "Greatest Decrease in Revenue: 41(-1172384)\n"
     ]
    }
   ],
   "source": [
    "# Dependencies\n",
    "import pandas as pd\n",
    "\n",
    "# Save path to data set in a variable\n",
    "data_file = \"budget_data_1.csv\"\n",
    "\n",
    "# Use Pandas to read data\n",
    "data_file_pd = pd.read_csv(data_file)\n",
    "data_file_pd.head()\n",
    "\n",
    "# The aggregate method groups all the dates by Month \n",
    "tot_Months = data_file_pd.aggregate(\"Date\")\n",
    "tot_Months.head()\n",
    "\n",
    "# The sum method sums total Revenue\n",
    "tot_Revenue = data_file_pd[\"Revenue\"].sum()\n",
    "tot_Revenue\n",
    "\n",
    "# The mean method averages total Revenue\n",
    "ave_Revenue = data_file_pd[\"Revenue\"].mean()\n",
    "ave_Revenue\n",
    "\n",
    "# The max method finds the max in the Revenue column\n",
    "max_Revenue = data_file_pd[\"Revenue\"].max()\n",
    "max_Revenue\n",
    "\n",
    "# The min method finds the min in the Revenue column\n",
    "min_Revenue = data_file_pd[\"Revenue\"].min()\n",
    "min_Revenue\n",
    "\n",
    "print(\"Financial Analysis\")\n",
    "print(\"----------------------------\")\n",
    "print(\"Total Months: \" + str(Date))\n",
    "print(\"Total Revenue: \" + str(tot_Revenue))\n",
    "print(\"Average Revenue Change: \" + str(ave_Revenue))\n",
    "print(\"Greatest Increase in Revenue: \" + str(Date) + str(\"(\") + str(max_Revenue ) + str(\")\"))\n",
    "print(\"Greatest Decrease in Revenue: \" + str(Date) + str(\"(\") + str(min_Revenue) + str(\")\"))"
   ]
  },
  {
   "cell_type": "code",
   "execution_count": 79,
   "metadata": {},
   "outputs": [
    {
     "data": {
      "text/plain": [
       "41"
      ]
     },
     "execution_count": 79,
     "metadata": {},
     "output_type": "execute_result"
    }
   ],
   "source": [
    "# The aggregate method groups all the dates by Month \n",
    "tot_Months = data_file_pd.aggregate(\"Date\")\n",
    "Date"
   ]
  },
  {
   "cell_type": "code",
   "execution_count": null,
   "metadata": {
    "collapsed": true
   },
   "outputs": [],
   "source": []
  }
 ],
 "metadata": {
  "kernelspec": {
   "display_name": "Python 3",
   "language": "python",
   "name": "python3"
  },
  "language_info": {
   "codemirror_mode": {
    "name": "ipython",
    "version": 3
   },
   "file_extension": ".py",
   "mimetype": "text/x-python",
   "name": "python",
   "nbconvert_exporter": "python",
   "pygments_lexer": "ipython3",
   "version": "3.6.3"
  }
 },
 "nbformat": 4,
 "nbformat_minor": 2
}
