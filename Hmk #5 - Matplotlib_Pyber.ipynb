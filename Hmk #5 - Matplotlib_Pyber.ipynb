{
 "cells": [
  {
   "cell_type": "markdown",
   "metadata": {},
   "source": [
    "## Unit 5 | Assignment - The Power of Plots\n",
    "\n",
    "## Option 1: Pyber\n",
    "\n",
    "The ride sharing bonanza continues! Seeing the success of notable players like Uber and Lyft, you've decided to join a fledgling ride sharing company of your own. In your latest capacity, you'll be acting as Chief Data Strategist for the company. In this role, you'll be expected to offer data-backed guidance on new opportunities for market differentiation.\n",
    "\n",
    "You've since been given access to the company's complete recordset of rides. This contains information about every active driver and historic ride, including details like city, driver count, individual fares, and city type.\n",
    "\n",
    "Your objective is to build a [Bubble Plot](https://en.wikipedia.org/wiki/Bubble_chart) that showcases the relationship between four key variables:\n",
    "\n",
    "* Average Fare ($) Per City\n",
    "* Total Number of Rides Per City\n",
    "* Total Number of Drivers Per City\n",
    "* City Type (Urban, Suburban, Rural)\n",
    "\n",
    "In addition, you will be expected to produce the following three pie charts:\n",
    "\n",
    "* % of Total Fares by City Type\n",
    "* % of Total Rides by City Type\n",
    "* % of Total Drivers by City Type\n",
    "\n",
    "As final considerations:\n",
    "\n",
    "* You must use the Pandas Library and the Jupyter Notebook.\n",
    "* You must use the Matplotlib and Seaborn libraries.\n",
    "* You must include a written description of three observable trends based on the data.\n",
    "* You must use proper labeling of your plots, including aspects like: Plot Titles, Axes Labels, Legend Labels, Wedge Percentages, and Wedge Labels.\n",
    "* Remember when making your plots to consider aesthetics!\n",
    "  * You must stick to the Pyber color scheme (Gold, Light Sky Blue, and Light Coral) in producing your plot and pie charts.\n",
    "  * When making your Bubble Plot, experiment with effects like `alpha`, `edgecolor`, and `linewidths`.\n",
    "  * When making your Pie Chart, experiment with effects like `shadow`, `startangle`, and `explosion`.\n",
    "* You must include an exported markdown version of your Notebook called  `README.md` in your GitHub repository.\n",
    "* See [Example Solution](Pyber/Pyber_Example.pdf) for a reference on expected format.\n"
   ]
  },
  {
   "cell_type": "code",
   "execution_count": 194,
   "metadata": {
    "collapsed": true
   },
   "outputs": [],
   "source": [
    "# Dependencies\n",
    "import matplotlib.pyplot as plt\n",
    "import numpy as np\n",
    "import pandas as pd\n",
    "import random as random\n",
    "import seaborn as sns"
   ]
  },
  {
   "cell_type": "code",
   "execution_count": 195,
   "metadata": {},
   "outputs": [
    {
     "name": "stdout",
     "output_type": "stream",
     "text": [
      "             city  driver_count   type\n",
      "0      Kelseyland            63  Urban\n",
      "1      Nguyenbury             8  Urban\n",
      "2    East Douglas            12  Urban\n",
      "3   West Dawnfurt            34  Urban\n",
      "4  Rodriguezburgh            52  Urban\n",
      "          city                 date   fare        ride_id\n",
      "0     Sarabury  2016-01-16 13:49:27  38.35  5403689035038\n",
      "1    South Roy  2016-01-02 18:42:34  17.49  4036272335942\n",
      "2  Wiseborough  2016-01-21 17:35:29  44.18  3645042422587\n",
      "3  Spencertown  2016-07-31 14:53:22   6.87  2242596575892\n",
      "4   Nguyenbury  2016-07-09 04:42:44   6.28  1543057793673\n"
     ]
    }
   ],
   "source": [
    "# Read csv\n",
    "# Store filepath in a variable\n",
    "pyber_city_data = \"Pyber/raw_data/city_data.csv\"\n",
    "pyber_ride_data = \"Pyber/raw_data/ride_data.csv\"\n",
    "\n",
    "# Read our Data file with the pandas library\n",
    "pyber_city_df = pd.read_csv(pyber_city_data)\n",
    "pyber_ride_df = pd.read_csv(pyber_ride_data)\n",
    "\n",
    "print(pyber_city_df.head())\n",
    "print(pyber_ride_df.head())\n"
   ]
  },
  {
   "cell_type": "code",
   "execution_count": 196,
   "metadata": {},
   "outputs": [
    {
     "data": {
      "text/html": [
       "<div>\n",
       "<style>\n",
       "    .dataframe thead tr:only-child th {\n",
       "        text-align: right;\n",
       "    }\n",
       "\n",
       "    .dataframe thead th {\n",
       "        text-align: left;\n",
       "    }\n",
       "\n",
       "    .dataframe tbody tr th {\n",
       "        vertical-align: top;\n",
       "    }\n",
       "</style>\n",
       "<table border=\"1\" class=\"dataframe\">\n",
       "  <thead>\n",
       "    <tr style=\"text-align: right;\">\n",
       "      <th></th>\n",
       "      <th>city</th>\n",
       "      <th>driver_count</th>\n",
       "      <th>type</th>\n",
       "      <th>date</th>\n",
       "      <th>fare</th>\n",
       "      <th>ride_id</th>\n",
       "    </tr>\n",
       "  </thead>\n",
       "  <tbody>\n",
       "    <tr>\n",
       "      <th>0</th>\n",
       "      <td>Kelseyland</td>\n",
       "      <td>63</td>\n",
       "      <td>Urban</td>\n",
       "      <td>2016-08-19 04:27:52</td>\n",
       "      <td>5.51</td>\n",
       "      <td>6246006544795</td>\n",
       "    </tr>\n",
       "    <tr>\n",
       "      <th>1</th>\n",
       "      <td>Kelseyland</td>\n",
       "      <td>63</td>\n",
       "      <td>Urban</td>\n",
       "      <td>2016-04-17 06:59:50</td>\n",
       "      <td>5.54</td>\n",
       "      <td>7466473222333</td>\n",
       "    </tr>\n",
       "    <tr>\n",
       "      <th>2</th>\n",
       "      <td>Kelseyland</td>\n",
       "      <td>63</td>\n",
       "      <td>Urban</td>\n",
       "      <td>2016-05-04 15:06:07</td>\n",
       "      <td>30.54</td>\n",
       "      <td>2140501382736</td>\n",
       "    </tr>\n",
       "    <tr>\n",
       "      <th>3</th>\n",
       "      <td>Kelseyland</td>\n",
       "      <td>63</td>\n",
       "      <td>Urban</td>\n",
       "      <td>2016-01-25 20:44:56</td>\n",
       "      <td>12.08</td>\n",
       "      <td>1896987891309</td>\n",
       "    </tr>\n",
       "    <tr>\n",
       "      <th>4</th>\n",
       "      <td>Kelseyland</td>\n",
       "      <td>63</td>\n",
       "      <td>Urban</td>\n",
       "      <td>2016-08-09 18:19:47</td>\n",
       "      <td>17.91</td>\n",
       "      <td>8784212854829</td>\n",
       "    </tr>\n",
       "  </tbody>\n",
       "</table>\n",
       "</div>"
      ],
      "text/plain": [
       "         city  driver_count   type                 date   fare        ride_id\n",
       "0  Kelseyland            63  Urban  2016-08-19 04:27:52   5.51  6246006544795\n",
       "1  Kelseyland            63  Urban  2016-04-17 06:59:50   5.54  7466473222333\n",
       "2  Kelseyland            63  Urban  2016-05-04 15:06:07  30.54  2140501382736\n",
       "3  Kelseyland            63  Urban  2016-01-25 20:44:56  12.08  1896987891309\n",
       "4  Kelseyland            63  Urban  2016-08-09 18:19:47  17.91  8784212854829"
      ]
     },
     "execution_count": 196,
     "metadata": {},
     "output_type": "execute_result"
    }
   ],
   "source": [
    "# merge the two files\n",
    "combined_pyber_data_df = pd.merge(pyber_city_df, pyber_ride_df, how=\"outer\", on=[\"city\"])\n",
    "\n",
    "# Show the header \n",
    "combined_pyber_data_df.head()"
   ]
  },
  {
   "cell_type": "code",
   "execution_count": 197,
   "metadata": {},
   "outputs": [
    {
     "data": {
      "text/html": [
       "<div>\n",
       "<style>\n",
       "    .dataframe thead tr:only-child th {\n",
       "        text-align: right;\n",
       "    }\n",
       "\n",
       "    .dataframe thead th {\n",
       "        text-align: left;\n",
       "    }\n",
       "\n",
       "    .dataframe tbody tr th {\n",
       "        vertical-align: top;\n",
       "    }\n",
       "</style>\n",
       "<table border=\"1\" class=\"dataframe\">\n",
       "  <thead>\n",
       "    <tr style=\"text-align: right;\">\n",
       "      <th></th>\n",
       "      <th>driver_count</th>\n",
       "      <th>fare</th>\n",
       "      <th>ride_id</th>\n",
       "    </tr>\n",
       "  </thead>\n",
       "  <tbody>\n",
       "    <tr>\n",
       "      <th>count</th>\n",
       "      <td>2407.00000</td>\n",
       "      <td>2407.000000</td>\n",
       "      <td>2.407000e+03</td>\n",
       "    </tr>\n",
       "    <tr>\n",
       "      <th>mean</th>\n",
       "      <td>31.14167</td>\n",
       "      <td>26.867104</td>\n",
       "      <td>4.856048e+12</td>\n",
       "    </tr>\n",
       "    <tr>\n",
       "      <th>std</th>\n",
       "      <td>22.05840</td>\n",
       "      <td>12.007238</td>\n",
       "      <td>2.898402e+12</td>\n",
       "    </tr>\n",
       "    <tr>\n",
       "      <th>min</th>\n",
       "      <td>1.00000</td>\n",
       "      <td>4.050000</td>\n",
       "      <td>2.238753e+09</td>\n",
       "    </tr>\n",
       "    <tr>\n",
       "      <th>25%</th>\n",
       "      <td>12.00000</td>\n",
       "      <td>17.320000</td>\n",
       "      <td>2.354637e+12</td>\n",
       "    </tr>\n",
       "    <tr>\n",
       "      <th>50%</th>\n",
       "      <td>24.00000</td>\n",
       "      <td>26.490000</td>\n",
       "      <td>4.804713e+12</td>\n",
       "    </tr>\n",
       "    <tr>\n",
       "      <th>75%</th>\n",
       "      <td>51.00000</td>\n",
       "      <td>36.710000</td>\n",
       "      <td>7.356325e+12</td>\n",
       "    </tr>\n",
       "    <tr>\n",
       "      <th>max</th>\n",
       "      <td>73.00000</td>\n",
       "      <td>59.650000</td>\n",
       "      <td>9.997901e+12</td>\n",
       "    </tr>\n",
       "  </tbody>\n",
       "</table>\n",
       "</div>"
      ],
      "text/plain": [
       "       driver_count         fare       ride_id\n",
       "count    2407.00000  2407.000000  2.407000e+03\n",
       "mean       31.14167    26.867104  4.856048e+12\n",
       "std        22.05840    12.007238  2.898402e+12\n",
       "min         1.00000     4.050000  2.238753e+09\n",
       "25%        12.00000    17.320000  2.354637e+12\n",
       "50%        24.00000    26.490000  4.804713e+12\n",
       "75%        51.00000    36.710000  7.356325e+12\n",
       "max        73.00000    59.650000  9.997901e+12"
      ]
     },
     "execution_count": 197,
     "metadata": {},
     "output_type": "execute_result"
    }
   ],
   "source": [
    "# Describe the data\n",
    "combined_pyber_data_df.describe()"
   ]
  },
  {
   "cell_type": "code",
   "execution_count": 198,
   "metadata": {},
   "outputs": [
    {
     "data": {
      "text/plain": [
       "city\n",
       "Alvarezhaven    23.928710\n",
       "Alyssaberg      20.609615\n",
       "Anitamouth      37.315556\n",
       "Antoniomouth    23.625000\n",
       "Aprilchester    21.981579\n",
       "Name: fare, dtype: float64"
      ]
     },
     "execution_count": 198,
     "metadata": {},
     "output_type": "execute_result"
    }
   ],
   "source": [
    "# Average Fare ($) Per City\n",
    "ave_fare = combined_pyber_data_df.groupby(\"city\").fare.mean()\n",
    "ave_fare.head()"
   ]
  },
  {
   "cell_type": "code",
   "execution_count": 199,
   "metadata": {},
   "outputs": [
    {
     "data": {
      "text/plain": [
       "city\n",
       "Alvarezhaven    31\n",
       "Alyssaberg      26\n",
       "Anitamouth       9\n",
       "Antoniomouth    22\n",
       "Aprilchester    19\n",
       "Name: ride_id, dtype: int64"
      ]
     },
     "execution_count": 199,
     "metadata": {},
     "output_type": "execute_result"
    }
   ],
   "source": [
    "# Total Number of Rides Per City\n",
    "tot_rides = combined_pyber_data_df.groupby(\"city\").ride_id.count()\n",
    "tot_rides.head()"
   ]
  },
  {
   "cell_type": "code",
   "execution_count": 200,
   "metadata": {},
   "outputs": [
    {
     "data": {
      "text/plain": [
       "city\n",
       "Alvarezhaven     651\n",
       "Alyssaberg      1742\n",
       "Anitamouth       144\n",
       "Antoniomouth     462\n",
       "Aprilchester     931\n",
       "Name: driver_count, dtype: int64"
      ]
     },
     "execution_count": 200,
     "metadata": {},
     "output_type": "execute_result"
    }
   ],
   "source": [
    "# Total Number of Drivers Per City\n",
    "tot_drivers = combined_pyber_data_df.groupby(\"city\").driver_count.sum()\n",
    "tot_drivers.head(5)"
   ]
  },
  {
   "cell_type": "code",
   "execution_count": 201,
   "metadata": {},
   "outputs": [
    {
     "data": {
      "text/html": [
       "<div>\n",
       "<style>\n",
       "    .dataframe thead tr:only-child th {\n",
       "        text-align: right;\n",
       "    }\n",
       "\n",
       "    .dataframe thead th {\n",
       "        text-align: left;\n",
       "    }\n",
       "\n",
       "    .dataframe tbody tr th {\n",
       "        vertical-align: top;\n",
       "    }\n",
       "</style>\n",
       "<table border=\"1\" class=\"dataframe\">\n",
       "  <thead>\n",
       "    <tr style=\"text-align: right;\">\n",
       "      <th></th>\n",
       "      <th>driver_count</th>\n",
       "      <th>fare</th>\n",
       "      <th>ride_id</th>\n",
       "    </tr>\n",
       "    <tr>\n",
       "      <th>type</th>\n",
       "      <th></th>\n",
       "      <th></th>\n",
       "      <th></th>\n",
       "    </tr>\n",
       "  </thead>\n",
       "  <tbody>\n",
       "    <tr>\n",
       "      <th>Rural</th>\n",
       "      <td>727</td>\n",
       "      <td>4255.09</td>\n",
       "      <td>658729360193746</td>\n",
       "    </tr>\n",
       "    <tr>\n",
       "      <th>Suburban</th>\n",
       "      <td>9730</td>\n",
       "      <td>20335.69</td>\n",
       "      <td>3139583688401015</td>\n",
       "    </tr>\n",
       "    <tr>\n",
       "      <th>Urban</th>\n",
       "      <td>64501</td>\n",
       "      <td>40078.34</td>\n",
       "      <td>7890194186030600</td>\n",
       "    </tr>\n",
       "  </tbody>\n",
       "</table>\n",
       "</div>"
      ],
      "text/plain": [
       "          driver_count      fare           ride_id\n",
       "type                                              \n",
       "Rural              727   4255.09   658729360193746\n",
       "Suburban          9730  20335.69  3139583688401015\n",
       "Urban            64501  40078.34  7890194186030600"
      ]
     },
     "execution_count": 201,
     "metadata": {},
     "output_type": "execute_result"
    }
   ],
   "source": [
    "# City Type (Urban, Suburban, Rural)\n",
    "cit_type = combined_pyber_data_df.groupby(\"type\").sum()\n",
    "cit_type.head(5)"
   ]
  },
  {
   "cell_type": "code",
   "execution_count": 252,
   "metadata": {},
   "outputs": [
    {
     "data": {
      "image/png": "[encoded data removed]",
      "text/plain": [
       "<matplotlib.figure.Figure at 0x1fbc21cdb38>"
      ]
     },
     "metadata": {},
     "output_type": "display_data"
    }
   ],
   "source": [
    "# Build bubble chart\n",
    "\n",
    "# create data\n",
    "tot_rides = np.random.rand(15)\n",
    "y = tot_rides+np.random.rand(15)\n",
    "z = tot_rides+np.random.rand(15)\n",
    "z = z*z\n",
    "\n",
    "# Change color with c and alpha. I map the color to the X axis value.\n",
    "plt.scatter(tot_rides, y, s=z*2500, c=z, cmap=\"Reds\", alpha=0.7, edgecolors=\"grey\", linewidth=1)\n",
    "\n",
    "# Add labels\n",
    "plt.title(\"Pyber KPIs by City\")\n",
    "plt.xlabel(\"Total Rides\")\n",
    "plt.ylabel(\"Total Drivers\")\n",
    "\n",
    "plt.show()"
   ]
  },
  {
   "cell_type": "code",
   "execution_count": 192,
   "metadata": {},
   "outputs": [
    {
     "data": {
      "text/plain": [
       "type\n",
       "Rural        4255.09\n",
       "Suburban    20335.69\n",
       "Urban       40078.34\n",
       "Name: fare, dtype: float64"
      ]
     },
     "execution_count": 192,
     "metadata": {},
     "output_type": "execute_result"
    }
   ],
   "source": [
    "# Total Fares ($) by City Type\n",
    "fare_ctype = combined_pyber_data_df.groupby(\"type\").fare.sum()\n",
    "fare_ctype.head(5)"
   ]
  },
  {
   "cell_type": "code",
   "execution_count": 168,
   "metadata": {},
   "outputs": [
    {
     "data": {
      "image/png": "[encoded data removed]",
      "text/plain": [
       "<matplotlib.figure.Figure at 0x1fbc18e29b0>"
      ]
     },
     "metadata": {},
     "output_type": "display_data"
    }
   ],
   "source": [
    "# % of Total Fares by City Type\n",
    "\n",
    "#custom\n",
    "labels = [\"Urban\",\"Suburban\",\"Rural\"]\n",
    "shares = [\"40078.34\", \"2033.69\", \"4255.09\"]\n",
    "\n",
    "# New Figure\n",
    "fig = plt.figure(figsize=(4,4),frameon=True,facecolor=\"lightgreen\")\n",
    "\n",
    "# New Axes\n",
    "ax = fig.add_subplot(1,1,1)\n",
    "\n",
    "# Plot the data\n",
    "ax.pie(shares,explode=(0,0.1,0),labels=labels,\n",
    "       colors=[\"gold\",\"lightskyblue\",\"lightcoral\"],\n",
    "       autopct='%.0f%%',shadow=True,radius=0.5,counterclock=True,startangle=400)\n",
    "\n",
    "ax.set(title=\"% Total Fares by City Type\")\n",
    "\n",
    "# Fit the plot layout\n",
    "plt.axis(\"equal\")\n",
    "\n",
    "# Show the plot\n",
    "plt.show()\n"
   ]
  },
  {
   "cell_type": "code",
   "execution_count": 169,
   "metadata": {},
   "outputs": [
    {
     "data": {
      "text/plain": [
       "type\n",
       "Rural        125\n",
       "Suburban     657\n",
       "Urban       1625\n",
       "Name: ride_id, dtype: int64"
      ]
     },
     "execution_count": 169,
     "metadata": {},
     "output_type": "execute_result"
    }
   ],
   "source": [
    "# Total Rides by City Type\n",
    "ride_ctype = combined_pyber_data_df.groupby(\"type\").ride_id.count()\n",
    "ride_ctype.head(5)"
   ]
  },
  {
   "cell_type": "code",
   "execution_count": 170,
   "metadata": {},
   "outputs": [
    {
     "data": {
      "image/png": "[encoded data removed]",
      "text/plain": [
       "<matplotlib.figure.Figure at 0x1fbc20ba5f8>"
      ]
     },
     "metadata": {},
     "output_type": "display_data"
    }
   ],
   "source": [
    "# % of Total Rides by City Type\n",
    "\n",
    "#custom\n",
    "labels = [\"Urban\",\"Suburban\",\"Rural\"]\n",
    "shares = [\"1625\", \"657\", \"125\"]\n",
    "\n",
    "# New Figure\n",
    "fig = plt.figure(figsize=(4,4),frameon=True,facecolor=\"lightgreen\")\n",
    "\n",
    "# New Axes\n",
    "ax = fig.add_subplot(1,1,1)\n",
    "\n",
    "# Plot the data\n",
    "ax.pie(shares,explode=(0,0,0.1),labels=labels,\n",
    "       colors=[\"gold\",\"lightskyblue\",\"lightcoral\"],\n",
    "       autopct='%.0f%%',shadow=True,radius=0.5,counterclock=True,startangle=380)\n",
    "\n",
    "ax.set(title=\"% Total Rides by City Type\")\n",
    "\n",
    "# Fit the plot layout\n",
    "plt.axis(\"equal\")\n",
    "\n",
    "# Show the plot\n",
    "plt.show()"
   ]
  },
  {
   "cell_type": "code",
   "execution_count": 171,
   "metadata": {},
   "outputs": [
    {
     "data": {
      "text/plain": [
       "type\n",
       "Rural         727\n",
       "Suburban     9730\n",
       "Urban       64501\n",
       "Name: driver_count, dtype: int64"
      ]
     },
     "execution_count": 171,
     "metadata": {},
     "output_type": "execute_result"
    }
   ],
   "source": [
    "# Total Drivers by City Type\n",
    "driver_ctype = combined_pyber_data_df.groupby(\"type\").driver_count.sum()\n",
    "driver_ctype.head(5)"
   ]
  },
  {
   "cell_type": "code",
   "execution_count": 172,
   "metadata": {},
   "outputs": [
    {
     "data": {
      "image/png": "[encoded data removed]",
      "text/plain": [
       "<matplotlib.figure.Figure at 0x1fbc216af98>"
      ]
     },
     "metadata": {},
     "output_type": "display_data"
    }
   ],
   "source": [
    "# % of Total Drivers by City Type\n",
    "\n",
    "#custom\n",
    "labels = [\"Urban\",\"Suburban\",\"Rural\"]\n",
    "shares = [\"64501\", \"9730\", \"727\"]\n",
    "\n",
    "# New Figure\n",
    "fig = plt.figure(figsize=(4,4),frameon=True,facecolor=\"lightgreen\")\n",
    "\n",
    "# New Axes\n",
    "ax = fig.add_subplot(1,1,1)\n",
    "\n",
    "# Plot the data\n",
    "ax.pie(shares,explode=(0,0,0.1),labels=labels,\n",
    "       colors=[\"gold\",\"lightskyblue\",\"lightcoral\"],\n",
    "       autopct='%.0f%%',shadow=True,radius=0.5,counterclock=False,startangle=350)\n",
    "\n",
    "ax.set(title=\"% Total Drivers by City Type\")\n",
    "\n",
    "# Fit the plot layout\n",
    "plt.axis(\"equal\")\n",
    "\n",
    "# Show the plot\n",
    "plt.show()"
   ]
  },
  {
   "cell_type": "markdown",
   "metadata": {},
   "source": [
    " # Three observable trends about the data.\n",
    "    \n",
    "    1. Anitamouth has the highest average fare of all the cities. \n",
    "    2. Urban city type has the most number of drivers while Rural city type has the least. \n",
    "    3. By % total, Suburban city type account for the lowest share. This matches conventional thinking that\n",
    "       suburbanites are more likely to drive their own cars to urban centers while city dwellers and rural folks \n",
    "       would deem it more practical to ride public transportation.\n",
    "    "
   ]
  }
 ],
 "metadata": {
  "kernelspec": {
   "display_name": "Python 3",
   "language": "python",
   "name": "python3"
  },
  "language_info": {
   "codemirror_mode": {
    "name": "ipython",
    "version": 3
   },
   "file_extension": ".py",
   "mimetype": "text/x-python",
   "name": "python",
   "nbconvert_exporter": "python",
   "pygments_lexer": "ipython3",
   "version": "3.6.3"
  }
 },
 "nbformat": 4,
 "nbformat_minor": 2
}
